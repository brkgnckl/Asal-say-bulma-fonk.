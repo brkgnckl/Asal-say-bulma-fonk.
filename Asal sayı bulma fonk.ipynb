{
 "cells": [
  {
   "cell_type": "code",
   "execution_count": 26,
   "id": "989a7cdc-daec-4478-b948-e1f56f8b3a09",
   "metadata": {},
   "outputs": [],
   "source": [
    "def check_p(x:int):\n",
    "    flag = True\n",
    "    if x == 2:\n",
    "        return flag\n",
    "    elif x % 2 == 0:\n",
    "        flag = False\n",
    "    if flag:\n",
    "        for i in range(3, int(x/2)):\n",
    "            if x % i == 0:\n",
    "                print (x, 'sayısının',i,'sayısına bölümü:',x/i, \"kalan ise 0 dır.\")\n",
    "                flag = False\n",
    "                break\n",
    "    return flag\n",
    "x = check_p(7)\n",
    "print(x)"
   ]
  },
  {
   "cell_type": "code",
   "execution_count": null,
   "id": "c7c95e6a-0cd1-428e-8a20-7415cb76aaf2",
   "metadata": {},
   "outputs": [],
   "source": []
  },
  {
   "cell_type": "code",
   "execution_count": null,
   "id": "62c2a996-cb24-4a33-b281-606c6b61c4b4",
   "metadata": {},
   "outputs": [],
   "source": []
  },
  {
   "cell_type": "code",
   "execution_count": null,
   "id": "740f0fb9-b648-4acf-a164-ff12a3673dca",
   "metadata": {},
   "outputs": [],
   "source": []
  }
 ],
 "metadata": {
  "kernelspec": {
   "display_name": "Python 3 (ipykernel)",
   "language": "python",
   "name": "python3"
  },
  "language_info": {
   "codemirror_mode": {
    "name": "ipython",
    "version": 3
   },
   "file_extension": ".py",
   "mimetype": "text/x-python",
   "name": "python",
   "nbconvert_exporter": "python",
   "pygments_lexer": "ipython3",
   "version": "3.12.4"
  }
 },
 "nbformat": 4,
 "nbformat_minor": 5
}
